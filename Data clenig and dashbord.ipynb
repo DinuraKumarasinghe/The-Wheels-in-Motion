{
 "cells": [
  {
   "cell_type": "markdown",
   "metadata": {},
   "source": [
    "## Import data to pandas data frame"
   ]
  },
  {
   "cell_type": "code",
   "execution_count": null,
   "metadata": {},
   "outputs": [],
   "source": [
    "import pandas as pd\n",
    "import glob\n",
    "\n",
    "file_paths = glob.glob('/PassengerVehicle_Stats/*.csv')\n",
    "all_dataframes = []\n",
    "for file_path in file_paths:\n",
    "    df = pd.read_csv(file_path)\n",
    "    all_dataframes.append(df)\n",
    "\n",
    "vehicles_df = pd.concat(all_dataframes, ignore_index=False)\n",
    "\n",
    "vehicles_df.head()\n",
    "vehicles_df.shape"
   ]
  },
  {
   "cell_type": "markdown",
   "metadata": {},
   "source": [
    "## Display the structure of the DataFrame"
   ]
  },
  {
   "cell_type": "code",
   "execution_count": null,
   "metadata": {},
   "outputs": [],
   "source": [
    "\n",
    "vehicles_df.drop_duplicates(keep='first', inplace=True)\n",
    "null_counts = vehicles_df.isnull().sum()\n",
    "print(null_counts)\n",
    "vehicles_df.isnull().sum().sum()\n",
    "print(vehicles_df.info())\n",
    "print(vehicles_df.describe())\n",
    "print(vehicles_df.head())\n",
    "print(123)\n",
    "print(123)"
   ]
  },
  {
   "cell_type": "markdown",
   "metadata": {},
   "source": [
    "## Display precentage of null valus"
   ]
  },
  {
   "cell_type": "code",
   "execution_count": null,
   "metadata": {},
   "outputs": [],
   "source": [
    "\n",
    "null_counts = vehicles_df.isnull().sum()\n",
    "print(null_counts)\n",
    "\n",
    "null_counts = df.isnull().sum()\n",
    "null_percentage = (null_counts / len(df)) * 100\n",
    "null_percentage = null_percentage.round(2)\n",
    "print(null_percentage)\n"
   ]
  },
  {
   "cell_type": "markdown",
   "metadata": {},
   "source": [
    "## Initial data exploration and cleaning"
   ]
  },
  {
   "cell_type": "code",
   "execution_count": null,
   "metadata": {},
   "outputs": [],
   "source": [
    "#Drop the valus that has all tha valus are null\n",
    "vehicles_df.dropna(how='all', inplace=True)\n",
    "\n",
    "# Check to confirm no null values remain\n",
    "vehicles_df[['Vehicle Model Year', 'ZIP Code']] = vehicles_df[['Vehicle Model Year', 'ZIP Code']].interpolate(method='linear')\n",
    "\n",
    "#fill the missing valus\n",
    "vehicles_df=vehicles_df.fillna({'Vehicle Model':'unknown','Vehicle Make':'unknown','Vehicle Color':'unknown','Vehicle Make':'unknown','Address':'unknown','City':'unknown','State':'unknown','Taxi Affiliation':'Affiliation unknown','Taxi Medallion License Management ':'unknown'})\n",
    "\n",
    "null_counts = vehicles_df.isnull().sum()\n",
    "print(null_counts)"
   ]
  },
  {
   "cell_type": "code",
   "execution_count": null,
   "metadata": {},
   "outputs": [],
   "source": [
    "\n",
    "vehicles_df.head()"
   ]
  },
  {
   "cell_type": "markdown",
   "metadata": {},
   "source": [
    "## Handle outliers and missing values"
   ]
  },
  {
   "cell_type": "code",
   "execution_count": null,
   "metadata": {},
   "outputs": [],
   "source": [
    "import seaborn as sns\n",
    "import matplotlib.pyplot as plt\n",
    "\n",
    "# Use a list instead of a set to select columns\n",
    "sns.boxplot(data=vehicles_df[['Unnamed: 0','Public Vehicle Number','Vehicle Model Year', 'ZIP Code']])\n",
    "plt.show()"
   ]
  },
  {
   "cell_type": "code",
   "execution_count": null,
   "metadata": {},
   "outputs": [],
   "source": [
    "import numpy as np\n",
    "\n",
    "def handle_outliers(vehicles_df, cols):\n",
    "    for col in cols:\n",
    "        if pd.api.types.is_numeric_dtype(vehicles_df[col]):\n",
    "            Q1 = vehicles_df[col].quantile(0.25)\n",
    "            Q3 = vehicles_df[col].quantile(0.75)\n",
    "            IQR = Q3 - Q1\n",
    "            LL, UL = Q1 - 1.5 * IQR, Q3 + 1.5 * IQR\n",
    "            vehicles_df[col] = np.clip(vehicles_df[col], LL, UL)  # Cap outliers to boundaries\n",
    "    return vehicles_df\n",
    "\n",
    "numeric_cols = vehicles_df.select_dtypes(include=['number']).columns\n",
    "vehicles_df = handle_outliers(vehicles_df, numeric_cols)\n"
   ]
  },
  {
   "cell_type": "code",
   "execution_count": null,
   "metadata": {},
   "outputs": [
    {
     "data": {
      "image/png": "[encoded data removed]",
      "text/plain": [
       "<Figure size 640x480 with 1 Axes>"
      ]
     },
     "metadata": {},
     "output_type": "display_data"
    }
   ],
   "source": [
    "sns.boxplot(data=vehicles_df[['Unnamed: 0','Public Vehicle Number','Vehicle Model Year', 'ZIP Code']])\n",
    "plt.show()"
   ]
  },
  {
   "cell_type": "markdown",
   "metadata": {},
   "source": [
    "## Adding new columns and Column Removal"
   ]
  },
  {
   "cell_type": "code",
   "execution_count": null,
   "metadata": {},
   "outputs": [],
   "source": [
    "#Adding new columns to the Dataframe\n",
    "vehicles_df['Vehicle Type'] = vehicles_df['Record ID'].apply(lambda x: x.split('-')[0])\n",
    "\n",
    "#Column Removal\n",
    "vehicles_df.drop(columns=['Address', 'Public Vehicle Number'], inplace=True)\n",
    "\n"
   ]
  },
  {
   "cell_type": "code",
   "execution_count": null,
   "metadata": {},
   "outputs": [],
   "source": [
    "\n",
    "vehicles_df.head()"
   ]
  },
  {
   "cell_type": "code",
   "execution_count": null,
   "metadata": {},
   "outputs": [],
   "source": []
  },
  {
   "cell_type": "markdown",
   "metadata": {},
   "source": [
    "## Dashboard"
   ]
  },
  {
   "cell_type": "code",
   "execution_count": null,
   "metadata": {},
   "outputs": [],
   "source": [
    "pip install jupyter_dash"
   ]
  },
  {
   "cell_type": "code",
   "execution_count": null,
   "metadata": {},
   "outputs": [],
   "source": [
    "pip install Dash"
   ]
  },
  {
   "cell_type": "markdown",
   "metadata": {},
   "source": [
    "### Prepare data for visualizations"
   ]
  },
  {
   "cell_type": "code",
   "execution_count": null,
   "metadata": {},
   "outputs": [
    {
     "data": {
      "application/javascript": "(async (port, path, width, height, cache, element) => {\n    if (!google.colab.kernel.accessAllowed && !cache) {\n      return;\n    }\n    element.appendChild(document.createTextNode(''));\n    const url = await google.colab.kernel.proxyPort(port, {cache});\n    const iframe = document.createElement('iframe');\n    iframe.src = new URL(path, url).toString();\n    iframe.height = height;\n    iframe.width = width;\n    iframe.style.border = 0;\n    iframe.allow = [\n        'accelerometer',\n        'autoplay',\n        'camera',\n        'clipboard-read',\n        'clipboard-write',\n        'gyroscope',\n        'magnetometer',\n        'microphone',\n        'serial',\n        'usb',\n        'xr-spatial-tracking',\n    ].join('; ');\n    element.appendChild(iframe);\n  })(8050, \"/\", \"100%\", 650, false, window.element)",
      "text/plain": [
       "<IPython.core.display.Javascript object>"
      ]
     },
     "metadata": {},
     "output_type": "display_data"
    }
   ],
   "source": [
    "\n",
    "from dash import Dash, dcc, html\n",
    "import plotly.express as px\n",
    "\n",
    "required_columns = ['Vehicle Make', 'Wheelchair Accessible', 'Status',\n",
    "                    'Vehicle Model Year', 'ZIP Code', 'Taxi Affiliation']\n",
    "for col in required_columns:\n",
    "    if col not in vehicles_df.columns:\n",
    "        print(f\"Column {col} is missing in the data.\")\n",
    "\n",
    "\n",
    "# Prepare data for visualizations\n",
    "vehicle_make_distribution = vehicles_df['Vehicle Make'].value_counts().reset_index()\n",
    "vehicle_make_distribution.columns = ['Vehicle Make', 'Count']\n",
    "\n",
    "wheelchair_accessible = vehicles_df['Wheelchair Accessible'].value_counts().reset_index()\n",
    "wheelchair_accessible.columns = ['Wheelchair Accessible', 'Count']\n",
    "\n",
    "status_distribution = vehicles_df['Status'].value_counts().reset_index()\n",
    "status_distribution.columns = ['Status', 'Count']\n",
    "\n",
    "model_year_status = vehicles_df.groupby(['Vehicle Model Year', 'Status']).size().reset_index(name='Count')\n",
    "\n",
    "zip_distribution = vehicles_df['ZIP Code'].value_counts().reset_index()\n",
    "zip_distribution.columns = ['ZIP Code', 'Count']\n",
    "\n",
    "taxi_affiliation = vehicles_df['Taxi Affiliation'].value_counts().reset_index()\n",
    "taxi_affiliation.columns = ['Taxi Affiliation', 'Count']\n",
    "\n",
    "license_management = vehicles_df['Taxi Medallion License Management '].value_counts().reset_index()\n",
    "license_management.columns = ['License Management', 'Count']\n",
    "\n",
    "# Filter and sort for better visualizations\n",
    "vehicle_make_distribution = vehicle_make_distribution[vehicle_make_distribution['Count'] > 5]\n",
    "vehicle_make_distribution.sort_values(by='Count', ascending=False, inplace=True)\n",
    "\n",
    "zip_distribution = zip_distribution[zip_distribution['Count'] > 10]\n",
    "\n",
    "# Create the Dash app\n",
    "app = Dash(__name__)\n",
    "\n"
   ]
  },
  {
   "cell_type": "markdown",
   "metadata": {},
   "source": [
    "### Define the app layout"
   ]
  },
  {
   "cell_type": "code",
   "execution_count": null,
   "metadata": {},
   "outputs": [],
   "source": [
    "\n",
    "\n",
    "# Define the app layout\n",
    "app.layout = html.Div([\n",
    "    html.H1(\"Vehicle Dashboard\", style={'textAlign': 'center'}),\n",
    "\n",
    "    # Section 1: Vehicle Overview\n",
    "    html.Div([\n",
    "        html.H2(\"Vehicle Overview\"),\n",
    "        dcc.Graph(figure=px.bar(vehicle_make_distribution, x='Vehicle Make', y='Count',\n",
    "                                 title=\"Vehicles by Make\", color='Vehicle Make')),\n",
    "        dcc.Graph(figure=px.pie(wheelchair_accessible, names='Wheelchair Accessible', values='Count',\n",
    "                                 title=\"Wheelchair Accessible Vehicles\")),\n",
    "    ]),\n",
    "\n",
    "    # Section 2: Operational Status\n",
    "    html.Div([\n",
    "        html.H2(\"Operational Status\"),\n",
    "        dcc.Graph(figure=px.bar(status_distribution, x='Status', y='Count',\n",
    "                                 title=\"Vehicle Status Distribution\", color='Status')),\n",
    "        dcc.Graph(figure=px.line(model_year_status, x='Vehicle Model Year', y='Count',\n",
    "                                  color='Status', title=\"Status Trends by Model Year\")),\n",
    "    ]),\n",
    "\n",
    "    # Section 3: Geographical Insights\n",
    "    html.Div([\n",
    "        html.H2(\"Geographical Insights\"),\n",
    "        dcc.Graph(figure=px.bar(zip_distribution, x='ZIP Code', y='Count',\n",
    "                                 title=\"Vehicles by ZIP Code\", color='ZIP Code')),\n",
    "    ]),\n",
    "\n",
    "    # Section 4: Affiliation & Management\n",
    "    html.Div([\n",
    "        html.H2(\"Affiliation & Management\"),\n",
    "        dcc.Graph(figure=px.bar(taxi_affiliation, x='Taxi Affiliation', y='Count',\n",
    "                                 title=\"Vehicles by Taxi Affiliation\", color='Taxi Affiliation')),\n",
    "        dcc.Graph(figure=px.pie(license_management, names='License Management', values='Count',\n",
    "                                 title=\"License Management Types\")),\n",
    "    ]),\n",
    "])\n",
    "\n",
    "# Run the app\n",
    "if __name__ == '__main__':\n",
    "    app.run_server(debug=True)"
   ]
  }
 ],
 "metadata": {
  "language_info": {
   "name": "python"
  }
 },
 "nbformat": 4,
 "nbformat_minor": 2
}
